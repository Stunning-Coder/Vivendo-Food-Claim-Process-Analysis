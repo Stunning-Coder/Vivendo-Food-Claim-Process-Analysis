{
 "cells": [
  {
   "cell_type": "code",
   "execution_count": 2,
   "id": "bd8709ed",
   "metadata": {},
   "outputs": [
    {
     "name": "stdout",
     "output_type": "stream",
     "text": [
      "Import Successful!\n"
     ]
    }
   ],
   "source": [
    "import pandas as pd\n",
    "import numpy as np\n",
    "import matplotlib.pyplot as plt\n",
    "import seaborn as sns\n",
    "\n",
    "print('Import Successful!')"
   ]
  },
  {
   "cell_type": "code",
   "execution_count": 3,
   "id": "40b3a185",
   "metadata": {},
   "outputs": [
    {
     "name": "stdout",
     "output_type": "stream",
     "text": [
      "data load successful\n"
     ]
    }
   ],
   "source": [
    "file_path = r'C:\\Users\\JAMES\\OneDrive\\Desktop\\Data Analyst Associate Certificate -- Datacamp\\food_claims.csv'\n",
    "data = pd.read_csv(file_path)\n",
    "\n",
    "print('data load successful')"
   ]
  },
  {
   "cell_type": "code",
   "execution_count": 4,
   "id": "0dd7584b",
   "metadata": {},
   "outputs": [
    {
     "data": {
      "text/html": [
       "<div>\n",
       "<style scoped>\n",
       "    .dataframe tbody tr th:only-of-type {\n",
       "        vertical-align: middle;\n",
       "    }\n",
       "\n",
       "    .dataframe tbody tr th {\n",
       "        vertical-align: top;\n",
       "    }\n",
       "\n",
       "    .dataframe thead th {\n",
       "        text-align: right;\n",
       "    }\n",
       "</style>\n",
       "<table border=\"1\" class=\"dataframe\">\n",
       "  <thead>\n",
       "    <tr style=\"text-align: right;\">\n",
       "      <th></th>\n",
       "      <th>claim_id</th>\n",
       "      <th>time_to_close</th>\n",
       "      <th>claim_amount</th>\n",
       "      <th>amount_paid</th>\n",
       "      <th>location</th>\n",
       "      <th>individuals_on_claim</th>\n",
       "      <th>linked_cases</th>\n",
       "      <th>cause</th>\n",
       "    </tr>\n",
       "  </thead>\n",
       "  <tbody>\n",
       "    <tr>\n",
       "      <th>0</th>\n",
       "      <td>1</td>\n",
       "      <td>317</td>\n",
       "      <td>R$ 74474.55</td>\n",
       "      <td>51231.37</td>\n",
       "      <td>RECIFE</td>\n",
       "      <td>15</td>\n",
       "      <td>False</td>\n",
       "      <td>unknown</td>\n",
       "    </tr>\n",
       "    <tr>\n",
       "      <th>1</th>\n",
       "      <td>2</td>\n",
       "      <td>195</td>\n",
       "      <td>R$ 52137.83</td>\n",
       "      <td>42111.30</td>\n",
       "      <td>FORTALEZA</td>\n",
       "      <td>12</td>\n",
       "      <td>True</td>\n",
       "      <td>unknown</td>\n",
       "    </tr>\n",
       "    <tr>\n",
       "      <th>2</th>\n",
       "      <td>3</td>\n",
       "      <td>183</td>\n",
       "      <td>R$ 24447.2</td>\n",
       "      <td>23986.30</td>\n",
       "      <td>SAO LUIS</td>\n",
       "      <td>10</td>\n",
       "      <td>True</td>\n",
       "      <td>meat</td>\n",
       "    </tr>\n",
       "    <tr>\n",
       "      <th>3</th>\n",
       "      <td>4</td>\n",
       "      <td>186</td>\n",
       "      <td>R$ 29006.28</td>\n",
       "      <td>27942.72</td>\n",
       "      <td>FORTALEZA</td>\n",
       "      <td>11</td>\n",
       "      <td>False</td>\n",
       "      <td>meat</td>\n",
       "    </tr>\n",
       "    <tr>\n",
       "      <th>4</th>\n",
       "      <td>5</td>\n",
       "      <td>138</td>\n",
       "      <td>R$ 19520.6</td>\n",
       "      <td>16251.06</td>\n",
       "      <td>RECIFE</td>\n",
       "      <td>11</td>\n",
       "      <td>False</td>\n",
       "      <td>vegetable</td>\n",
       "    </tr>\n",
       "  </tbody>\n",
       "</table>\n",
       "</div>"
      ],
      "text/plain": [
       "   claim_id  time_to_close claim_amount  amount_paid   location  \\\n",
       "0         1            317  R$ 74474.55     51231.37     RECIFE   \n",
       "1         2            195  R$ 52137.83     42111.30  FORTALEZA   \n",
       "2         3            183   R$ 24447.2     23986.30   SAO LUIS   \n",
       "3         4            186  R$ 29006.28     27942.72  FORTALEZA   \n",
       "4         5            138   R$ 19520.6     16251.06     RECIFE   \n",
       "\n",
       "   individuals_on_claim linked_cases      cause  \n",
       "0                    15        False    unknown  \n",
       "1                    12         True    unknown  \n",
       "2                    10         True       meat  \n",
       "3                    11        False       meat  \n",
       "4                    11        False  vegetable  "
      ]
     },
     "execution_count": 4,
     "metadata": {},
     "output_type": "execute_result"
    }
   ],
   "source": [
    "data.head()"
   ]
  },
  {
   "cell_type": "code",
   "execution_count": 8,
   "id": "d3dbe8bb",
   "metadata": {
    "collapsed": true
   },
   "outputs": [
    {
     "ename": "AttributeError",
     "evalue": "Can only use .str accessor with string values!",
     "output_type": "error",
     "traceback": [
      "\u001b[1;31m---------------------------------------------------------------------------\u001b[0m",
      "\u001b[1;31mAttributeError\u001b[0m                            Traceback (most recent call last)",
      "Cell \u001b[1;32mIn[8], line 2\u001b[0m\n\u001b[0;32m      1\u001b[0m \u001b[38;5;66;03m# Removing the string values in the amount_paid column to make it a float.\u001b[39;00m\n\u001b[1;32m----> 2\u001b[0m data[\u001b[38;5;124m'\u001b[39m\u001b[38;5;124mclaim_amount\u001b[39m\u001b[38;5;124m'\u001b[39m] \u001b[38;5;241m=\u001b[39m data[\u001b[38;5;124m'\u001b[39m\u001b[38;5;124mclaim_amount\u001b[39m\u001b[38;5;124m'\u001b[39m]\u001b[38;5;241m.\u001b[39mstr\u001b[38;5;241m.\u001b[39mextract(\u001b[38;5;124mr\u001b[39m\u001b[38;5;124m'\u001b[39m\u001b[38;5;124m([\u001b[39m\u001b[38;5;124m\\\u001b[39m\u001b[38;5;124md,]+(\u001b[39m\u001b[38;5;124m\\\u001b[39m\u001b[38;5;124m.\u001b[39m\u001b[38;5;124m\\\u001b[39m\u001b[38;5;124md\u001b[39m\u001b[38;5;124m{\u001b[39m\u001b[38;5;124m1,2})?)\u001b[39m\u001b[38;5;124m'\u001b[39m)[\u001b[38;5;241m0\u001b[39m]\n\u001b[0;32m      4\u001b[0m \u001b[38;5;66;03m# Convert the column to a numeric data type (float)\u001b[39;00m\n\u001b[0;32m      5\u001b[0m data[\u001b[38;5;124m'\u001b[39m\u001b[38;5;124mclaim_amount\u001b[39m\u001b[38;5;124m'\u001b[39m] \u001b[38;5;241m=\u001b[39m data[\u001b[38;5;124m'\u001b[39m\u001b[38;5;124mclaim_amount\u001b[39m\u001b[38;5;124m'\u001b[39m]\u001b[38;5;241m.\u001b[39mstr\u001b[38;5;241m.\u001b[39mreplace(\u001b[38;5;124m'\u001b[39m\u001b[38;5;124m,\u001b[39m\u001b[38;5;124m'\u001b[39m, \u001b[38;5;124m'\u001b[39m\u001b[38;5;124m'\u001b[39m)\u001b[38;5;241m.\u001b[39mastype(\u001b[38;5;28mfloat\u001b[39m)\n",
      "File \u001b[1;32m~\\anaconda3\\Lib\\site-packages\\pandas\\core\\generic.py:5902\u001b[0m, in \u001b[0;36mNDFrame.__getattr__\u001b[1;34m(self, name)\u001b[0m\n\u001b[0;32m   5895\u001b[0m \u001b[38;5;28;01mif\u001b[39;00m (\n\u001b[0;32m   5896\u001b[0m     name \u001b[38;5;129;01mnot\u001b[39;00m \u001b[38;5;129;01min\u001b[39;00m \u001b[38;5;28mself\u001b[39m\u001b[38;5;241m.\u001b[39m_internal_names_set\n\u001b[0;32m   5897\u001b[0m     \u001b[38;5;129;01mand\u001b[39;00m name \u001b[38;5;129;01mnot\u001b[39;00m \u001b[38;5;129;01min\u001b[39;00m \u001b[38;5;28mself\u001b[39m\u001b[38;5;241m.\u001b[39m_metadata\n\u001b[0;32m   5898\u001b[0m     \u001b[38;5;129;01mand\u001b[39;00m name \u001b[38;5;129;01mnot\u001b[39;00m \u001b[38;5;129;01min\u001b[39;00m \u001b[38;5;28mself\u001b[39m\u001b[38;5;241m.\u001b[39m_accessors\n\u001b[0;32m   5899\u001b[0m     \u001b[38;5;129;01mand\u001b[39;00m \u001b[38;5;28mself\u001b[39m\u001b[38;5;241m.\u001b[39m_info_axis\u001b[38;5;241m.\u001b[39m_can_hold_identifiers_and_holds_name(name)\n\u001b[0;32m   5900\u001b[0m ):\n\u001b[0;32m   5901\u001b[0m     \u001b[38;5;28;01mreturn\u001b[39;00m \u001b[38;5;28mself\u001b[39m[name]\n\u001b[1;32m-> 5902\u001b[0m \u001b[38;5;28;01mreturn\u001b[39;00m \u001b[38;5;28mobject\u001b[39m\u001b[38;5;241m.\u001b[39m\u001b[38;5;21m__getattribute__\u001b[39m(\u001b[38;5;28mself\u001b[39m, name)\n",
      "File \u001b[1;32m~\\anaconda3\\Lib\\site-packages\\pandas\\core\\accessor.py:182\u001b[0m, in \u001b[0;36mCachedAccessor.__get__\u001b[1;34m(self, obj, cls)\u001b[0m\n\u001b[0;32m    179\u001b[0m \u001b[38;5;28;01mif\u001b[39;00m obj \u001b[38;5;129;01mis\u001b[39;00m \u001b[38;5;28;01mNone\u001b[39;00m:\n\u001b[0;32m    180\u001b[0m     \u001b[38;5;66;03m# we're accessing the attribute of the class, i.e., Dataset.geo\u001b[39;00m\n\u001b[0;32m    181\u001b[0m     \u001b[38;5;28;01mreturn\u001b[39;00m \u001b[38;5;28mself\u001b[39m\u001b[38;5;241m.\u001b[39m_accessor\n\u001b[1;32m--> 182\u001b[0m accessor_obj \u001b[38;5;241m=\u001b[39m \u001b[38;5;28mself\u001b[39m\u001b[38;5;241m.\u001b[39m_accessor(obj)\n\u001b[0;32m    183\u001b[0m \u001b[38;5;66;03m# Replace the property with the accessor object. Inspired by:\u001b[39;00m\n\u001b[0;32m    184\u001b[0m \u001b[38;5;66;03m# https://www.pydanny.com/cached-property.html\u001b[39;00m\n\u001b[0;32m    185\u001b[0m \u001b[38;5;66;03m# We need to use object.__setattr__ because we overwrite __setattr__ on\u001b[39;00m\n\u001b[0;32m    186\u001b[0m \u001b[38;5;66;03m# NDFrame\u001b[39;00m\n\u001b[0;32m    187\u001b[0m \u001b[38;5;28mobject\u001b[39m\u001b[38;5;241m.\u001b[39m\u001b[38;5;21m__setattr__\u001b[39m(obj, \u001b[38;5;28mself\u001b[39m\u001b[38;5;241m.\u001b[39m_name, accessor_obj)\n",
      "File \u001b[1;32m~\\anaconda3\\Lib\\site-packages\\pandas\\core\\strings\\accessor.py:181\u001b[0m, in \u001b[0;36mStringMethods.__init__\u001b[1;34m(self, data)\u001b[0m\n\u001b[0;32m    178\u001b[0m \u001b[38;5;28;01mdef\u001b[39;00m \u001b[38;5;21m__init__\u001b[39m(\u001b[38;5;28mself\u001b[39m, data) \u001b[38;5;241m-\u001b[39m\u001b[38;5;241m>\u001b[39m \u001b[38;5;28;01mNone\u001b[39;00m:\n\u001b[0;32m    179\u001b[0m     \u001b[38;5;28;01mfrom\u001b[39;00m \u001b[38;5;21;01mpandas\u001b[39;00m\u001b[38;5;21;01m.\u001b[39;00m\u001b[38;5;21;01mcore\u001b[39;00m\u001b[38;5;21;01m.\u001b[39;00m\u001b[38;5;21;01marrays\u001b[39;00m\u001b[38;5;21;01m.\u001b[39;00m\u001b[38;5;21;01mstring_\u001b[39;00m \u001b[38;5;28;01mimport\u001b[39;00m StringDtype\n\u001b[1;32m--> 181\u001b[0m     \u001b[38;5;28mself\u001b[39m\u001b[38;5;241m.\u001b[39m_inferred_dtype \u001b[38;5;241m=\u001b[39m \u001b[38;5;28mself\u001b[39m\u001b[38;5;241m.\u001b[39m_validate(data)\n\u001b[0;32m    182\u001b[0m     \u001b[38;5;28mself\u001b[39m\u001b[38;5;241m.\u001b[39m_is_categorical \u001b[38;5;241m=\u001b[39m is_categorical_dtype(data\u001b[38;5;241m.\u001b[39mdtype)\n\u001b[0;32m    183\u001b[0m     \u001b[38;5;28mself\u001b[39m\u001b[38;5;241m.\u001b[39m_is_string \u001b[38;5;241m=\u001b[39m \u001b[38;5;28misinstance\u001b[39m(data\u001b[38;5;241m.\u001b[39mdtype, StringDtype)\n",
      "File \u001b[1;32m~\\anaconda3\\Lib\\site-packages\\pandas\\core\\strings\\accessor.py:235\u001b[0m, in \u001b[0;36mStringMethods._validate\u001b[1;34m(data)\u001b[0m\n\u001b[0;32m    232\u001b[0m inferred_dtype \u001b[38;5;241m=\u001b[39m lib\u001b[38;5;241m.\u001b[39minfer_dtype(values, skipna\u001b[38;5;241m=\u001b[39m\u001b[38;5;28;01mTrue\u001b[39;00m)\n\u001b[0;32m    234\u001b[0m \u001b[38;5;28;01mif\u001b[39;00m inferred_dtype \u001b[38;5;129;01mnot\u001b[39;00m \u001b[38;5;129;01min\u001b[39;00m allowed_types:\n\u001b[1;32m--> 235\u001b[0m     \u001b[38;5;28;01mraise\u001b[39;00m \u001b[38;5;167;01mAttributeError\u001b[39;00m(\u001b[38;5;124m\"\u001b[39m\u001b[38;5;124mCan only use .str accessor with string values!\u001b[39m\u001b[38;5;124m\"\u001b[39m)\n\u001b[0;32m    236\u001b[0m \u001b[38;5;28;01mreturn\u001b[39;00m inferred_dtype\n",
      "\u001b[1;31mAttributeError\u001b[0m: Can only use .str accessor with string values!"
     ]
    }
   ],
   "source": [
    "# Removing the string values in the amount_paid column to make it a float.\n",
    "data['claim_amount'] = data['claim_amount'].str.extract(r'([\\d,]+(\\.\\d{1,2})?)')[0]\n",
    "\n",
    "# Convert the column to a numeric data type (float)\n",
    "data['claim_amount'] = data['claim_amount'].str.replace(',', '').astype(float)\n",
    "\n",
    "data.head()"
   ]
  },
  {
   "cell_type": "code",
   "execution_count": 9,
   "id": "2557206d",
   "metadata": {
    "scrolled": true
   },
   "outputs": [
    {
     "name": "stdout",
     "output_type": "stream",
     "text": [
      "<class 'pandas.core.frame.DataFrame'>\n",
      "RangeIndex: 2000 entries, 0 to 1999\n",
      "Data columns (total 8 columns):\n",
      " #   Column                Non-Null Count  Dtype  \n",
      "---  ------                --------------  -----  \n",
      " 0   claim_id              2000 non-null   int64  \n",
      " 1   time_to_close         2000 non-null   int64  \n",
      " 2   claim_amount          2000 non-null   float64\n",
      " 3   amount_paid           1964 non-null   float64\n",
      " 4   location              2000 non-null   object \n",
      " 5   individuals_on_claim  2000 non-null   int64  \n",
      " 6   linked_cases          1974 non-null   object \n",
      " 7   cause                 2000 non-null   object \n",
      "dtypes: float64(2), int64(3), object(3)\n",
      "memory usage: 125.1+ KB\n"
     ]
    }
   ],
   "source": [
    "data.info()"
   ]
  },
  {
   "cell_type": "code",
   "execution_count": 10,
   "id": "fc2d9835",
   "metadata": {},
   "outputs": [
    {
     "name": "stdout",
     "output_type": "stream",
     "text": [
      "claim_id                 0\n",
      "time_to_close            0\n",
      "claim_amount             0\n",
      "amount_paid             36\n",
      "location                 0\n",
      "individuals_on_claim     0\n",
      "linked_cases            26\n",
      "cause                    0\n",
      "dtype: int64\n"
     ]
    }
   ],
   "source": [
    "#checking for missing values\n",
    "\n",
    "missing_values = data.isna().sum()\n",
    "print(missing_values)\n"
   ]
  },
  {
   "cell_type": "code",
   "execution_count": 11,
   "id": "45a90304",
   "metadata": {},
   "outputs": [
    {
     "name": "stdout",
     "output_type": "stream",
     "text": [
      "claim_id                  int64\n",
      "time_to_close             int64\n",
      "claim_amount            float64\n",
      "amount_paid             float64\n",
      "location                 object\n",
      "individuals_on_claim      int64\n",
      "linked_cases             object\n",
      "cause                    object\n",
      "dtype: object\n"
     ]
    }
   ],
   "source": [
    "#checking and validating the data_types\n",
    "\n",
    "data_types = data.dtypes\n",
    "print(data_types)"
   ]
  },
  {
   "cell_type": "code",
   "execution_count": 12,
   "id": "2d17761c",
   "metadata": {},
   "outputs": [
    {
     "name": "stdout",
     "output_type": "stream",
     "text": [
      "Total number of rows: 2000\n",
      "Total number of columns: 8\n"
     ]
    }
   ],
   "source": [
    "#checking for the total number of rows and columns\n",
    "\n",
    "num_rows, num_columns = data.shape\n",
    "\n",
    "print(f'Total number of rows: {num_rows}')\n",
    "print(f'Total number of columns: {num_columns}')\n"
   ]
  },
  {
   "cell_type": "code",
   "execution_count": 13,
   "id": "512de3cb",
   "metadata": {},
   "outputs": [
    {
     "data": {
      "text/plain": [
       "(2000, 8)"
      ]
     },
     "execution_count": 13,
     "metadata": {},
     "output_type": "execute_result"
    }
   ],
   "source": [
    "data.shape"
   ]
  },
  {
   "cell_type": "markdown",
   "id": "a38a8c06",
   "metadata": {},
   "source": [
    "\"Apparently, we've got two columns with null values -- linked_cases and amount_paid\""
   ]
  },
  {
   "cell_type": "code",
   "execution_count": 16,
   "id": "359ee178",
   "metadata": {},
   "outputs": [
    {
     "name": "stdout",
     "output_type": "stream",
     "text": [
      "['RECIFE' 'FORTALEZA' 'SAO LUIS' 'NATAL']\n",
      "[False  True]\n",
      "['unknown' 'meat' 'vegetable' ' Meat' 'VEGETABLES']\n"
     ]
    }
   ],
   "source": [
    "#checking for unique values in each text column\n",
    "\n",
    "distinct_location = data['location'].unique()\n",
    "distinct_linked_cases = data['linked_cases'].unique()\n",
    "distinct_causes = data['cause'].unique()\n",
    "\n",
    "\n",
    "print(distinct_location)\n",
    "print(distinct_linked_cases)\n",
    "print(distinct_causes)"
   ]
  },
  {
   "cell_type": "code",
   "execution_count": 20,
   "id": "1a76f2ca",
   "metadata": {},
   "outputs": [
    {
     "name": "stdout",
     "output_type": "stream",
     "text": [
      "cause\n",
      " Meat          14\n",
      "VEGETABLES     16\n",
      "meat          943\n",
      "unknown       713\n",
      "vegetable     314\n",
      "Name: cause, dtype: int64\n"
     ]
    }
   ],
   "source": [
    "#count the number of inconsistent values in the cause column and group them\n",
    "\n",
    "causes = data.groupby('cause')['cause'].count()\n",
    "\n",
    "print(causes)"
   ]
  },
  {
   "cell_type": "code",
   "execution_count": 27,
   "id": "bc109449",
   "metadata": {},
   "outputs": [
    {
     "data": {
      "text/plain": [
       "cause\n",
       "meat         957\n",
       "unknown      713\n",
       "vegetable    330\n",
       "Name: cause, dtype: int64"
      ]
     },
     "execution_count": 27,
     "metadata": {},
     "output_type": "execute_result"
    }
   ],
   "source": [
    "#removing trailing spaces and replacing the inconsistent values with the consistent ones.\n",
    "\n",
    "data['cause'] = data['cause'].str.strip()\n",
    "\n",
    "data['cause'].replace('Meat','meat',inplace=True)\n",
    "data['cause'].replace('VEGETABLES','vegetable',inplace=True)\n",
    "\n",
    "data.groupby('cause')['cause'].count()"
   ]
  },
  {
   "cell_type": "code",
   "execution_count": 28,
   "id": "503e7513",
   "metadata": {},
   "outputs": [
    {
     "data": {
      "text/plain": [
       "claim_id                 0\n",
       "time_to_close            0\n",
       "claim_amount             0\n",
       "amount_paid             36\n",
       "location                 0\n",
       "individuals_on_claim     0\n",
       "linked_cases             0\n",
       "cause                    0\n",
       "dtype: int64"
      ]
     },
     "execution_count": 28,
     "metadata": {},
     "output_type": "execute_result"
    }
   ],
   "source": [
    "#replace missing values in the linked_cases column with the nominal value \"False\"\n",
    "\n",
    "data['linked_cases'] = data['linked_cases'].fillna(False).astype(bool)\n",
    "\n",
    "data.isna().sum()"
   ]
  },
  {
   "cell_type": "code",
   "execution_count": 29,
   "id": "1794d31f",
   "metadata": {
    "scrolled": true
   },
   "outputs": [
    {
     "data": {
      "text/html": [
       "<div>\n",
       "<style scoped>\n",
       "    .dataframe tbody tr th:only-of-type {\n",
       "        vertical-align: middle;\n",
       "    }\n",
       "\n",
       "    .dataframe tbody tr th {\n",
       "        vertical-align: top;\n",
       "    }\n",
       "\n",
       "    .dataframe thead th {\n",
       "        text-align: right;\n",
       "    }\n",
       "</style>\n",
       "<table border=\"1\" class=\"dataframe\">\n",
       "  <thead>\n",
       "    <tr style=\"text-align: right;\">\n",
       "      <th></th>\n",
       "      <th>claim_id</th>\n",
       "      <th>time_to_close</th>\n",
       "      <th>claim_amount</th>\n",
       "      <th>amount_paid</th>\n",
       "      <th>location</th>\n",
       "      <th>individuals_on_claim</th>\n",
       "      <th>linked_cases</th>\n",
       "      <th>cause</th>\n",
       "    </tr>\n",
       "  </thead>\n",
       "  <tbody>\n",
       "    <tr>\n",
       "      <th>0</th>\n",
       "      <td>1</td>\n",
       "      <td>317</td>\n",
       "      <td>74474.55</td>\n",
       "      <td>51231.37</td>\n",
       "      <td>RECIFE</td>\n",
       "      <td>15</td>\n",
       "      <td>False</td>\n",
       "      <td>unknown</td>\n",
       "    </tr>\n",
       "    <tr>\n",
       "      <th>1</th>\n",
       "      <td>2</td>\n",
       "      <td>195</td>\n",
       "      <td>52137.83</td>\n",
       "      <td>42111.30</td>\n",
       "      <td>FORTALEZA</td>\n",
       "      <td>12</td>\n",
       "      <td>True</td>\n",
       "      <td>unknown</td>\n",
       "    </tr>\n",
       "    <tr>\n",
       "      <th>2</th>\n",
       "      <td>3</td>\n",
       "      <td>183</td>\n",
       "      <td>24447.20</td>\n",
       "      <td>23986.30</td>\n",
       "      <td>SAO LUIS</td>\n",
       "      <td>10</td>\n",
       "      <td>True</td>\n",
       "      <td>meat</td>\n",
       "    </tr>\n",
       "    <tr>\n",
       "      <th>3</th>\n",
       "      <td>4</td>\n",
       "      <td>186</td>\n",
       "      <td>29006.28</td>\n",
       "      <td>27942.72</td>\n",
       "      <td>FORTALEZA</td>\n",
       "      <td>11</td>\n",
       "      <td>False</td>\n",
       "      <td>meat</td>\n",
       "    </tr>\n",
       "    <tr>\n",
       "      <th>4</th>\n",
       "      <td>5</td>\n",
       "      <td>138</td>\n",
       "      <td>19520.60</td>\n",
       "      <td>16251.06</td>\n",
       "      <td>RECIFE</td>\n",
       "      <td>11</td>\n",
       "      <td>False</td>\n",
       "      <td>vegetable</td>\n",
       "    </tr>\n",
       "    <tr>\n",
       "      <th>...</th>\n",
       "      <td>...</td>\n",
       "      <td>...</td>\n",
       "      <td>...</td>\n",
       "      <td>...</td>\n",
       "      <td>...</td>\n",
       "      <td>...</td>\n",
       "      <td>...</td>\n",
       "      <td>...</td>\n",
       "    </tr>\n",
       "    <tr>\n",
       "      <th>195</th>\n",
       "      <td>196</td>\n",
       "      <td>109</td>\n",
       "      <td>8944.47</td>\n",
       "      <td>8299.10</td>\n",
       "      <td>RECIFE</td>\n",
       "      <td>3</td>\n",
       "      <td>False</td>\n",
       "      <td>meat</td>\n",
       "    </tr>\n",
       "    <tr>\n",
       "      <th>196</th>\n",
       "      <td>197</td>\n",
       "      <td>174</td>\n",
       "      <td>8922.96</td>\n",
       "      <td>8039.87</td>\n",
       "      <td>SAO LUIS</td>\n",
       "      <td>5</td>\n",
       "      <td>True</td>\n",
       "      <td>vegetable</td>\n",
       "    </tr>\n",
       "    <tr>\n",
       "      <th>197</th>\n",
       "      <td>198</td>\n",
       "      <td>194</td>\n",
       "      <td>15700.36</td>\n",
       "      <td>13837.94</td>\n",
       "      <td>SAO LUIS</td>\n",
       "      <td>4</td>\n",
       "      <td>False</td>\n",
       "      <td>unknown</td>\n",
       "    </tr>\n",
       "    <tr>\n",
       "      <th>198</th>\n",
       "      <td>199</td>\n",
       "      <td>171</td>\n",
       "      <td>4552.15</td>\n",
       "      <td>3097.37</td>\n",
       "      <td>SAO LUIS</td>\n",
       "      <td>2</td>\n",
       "      <td>True</td>\n",
       "      <td>vegetable</td>\n",
       "    </tr>\n",
       "    <tr>\n",
       "      <th>199</th>\n",
       "      <td>200</td>\n",
       "      <td>134</td>\n",
       "      <td>13877.25</td>\n",
       "      <td>11672.13</td>\n",
       "      <td>RECIFE</td>\n",
       "      <td>5</td>\n",
       "      <td>False</td>\n",
       "      <td>meat</td>\n",
       "    </tr>\n",
       "  </tbody>\n",
       "</table>\n",
       "<p>200 rows × 8 columns</p>\n",
       "</div>"
      ],
      "text/plain": [
       "     claim_id  time_to_close  claim_amount  amount_paid   location  \\\n",
       "0           1            317      74474.55     51231.37     RECIFE   \n",
       "1           2            195      52137.83     42111.30  FORTALEZA   \n",
       "2           3            183      24447.20     23986.30   SAO LUIS   \n",
       "3           4            186      29006.28     27942.72  FORTALEZA   \n",
       "4           5            138      19520.60     16251.06     RECIFE   \n",
       "..        ...            ...           ...          ...        ...   \n",
       "195       196            109       8944.47      8299.10     RECIFE   \n",
       "196       197            174       8922.96      8039.87   SAO LUIS   \n",
       "197       198            194      15700.36     13837.94   SAO LUIS   \n",
       "198       199            171       4552.15      3097.37   SAO LUIS   \n",
       "199       200            134      13877.25     11672.13     RECIFE   \n",
       "\n",
       "     individuals_on_claim  linked_cases      cause  \n",
       "0                      15         False    unknown  \n",
       "1                      12          True    unknown  \n",
       "2                      10          True       meat  \n",
       "3                      11         False       meat  \n",
       "4                      11         False  vegetable  \n",
       "..                    ...           ...        ...  \n",
       "195                     3         False       meat  \n",
       "196                     5          True  vegetable  \n",
       "197                     4         False    unknown  \n",
       "198                     2          True  vegetable  \n",
       "199                     5         False       meat  \n",
       "\n",
       "[200 rows x 8 columns]"
      ]
     },
     "execution_count": 29,
     "metadata": {},
     "output_type": "execute_result"
    }
   ],
   "source": [
    "data.head(200)"
   ]
  },
  {
   "cell_type": "code",
   "execution_count": 30,
   "id": "0ae49b94",
   "metadata": {},
   "outputs": [
    {
     "data": {
      "text/html": [
       "<div>\n",
       "<style scoped>\n",
       "    .dataframe tbody tr th:only-of-type {\n",
       "        vertical-align: middle;\n",
       "    }\n",
       "\n",
       "    .dataframe tbody tr th {\n",
       "        vertical-align: top;\n",
       "    }\n",
       "\n",
       "    .dataframe thead th {\n",
       "        text-align: right;\n",
       "    }\n",
       "</style>\n",
       "<table border=\"1\" class=\"dataframe\">\n",
       "  <thead>\n",
       "    <tr style=\"text-align: right;\">\n",
       "      <th></th>\n",
       "      <th>claim_id</th>\n",
       "      <th>time_to_close</th>\n",
       "      <th>claim_amount</th>\n",
       "      <th>amount_paid</th>\n",
       "      <th>individuals_on_claim</th>\n",
       "    </tr>\n",
       "  </thead>\n",
       "  <tbody>\n",
       "    <tr>\n",
       "      <th>count</th>\n",
       "      <td>2000.000000</td>\n",
       "      <td>2000.00000</td>\n",
       "      <td>2000.000000</td>\n",
       "      <td>1964.000000</td>\n",
       "      <td>2000.000000</td>\n",
       "    </tr>\n",
       "    <tr>\n",
       "      <th>mean</th>\n",
       "      <td>1000.500000</td>\n",
       "      <td>185.56800</td>\n",
       "      <td>27156.965235</td>\n",
       "      <td>21541.975183</td>\n",
       "      <td>8.049500</td>\n",
       "    </tr>\n",
       "    <tr>\n",
       "      <th>std</th>\n",
       "      <td>577.494589</td>\n",
       "      <td>49.16339</td>\n",
       "      <td>16195.783099</td>\n",
       "      <td>12530.156509</td>\n",
       "      <td>4.087347</td>\n",
       "    </tr>\n",
       "    <tr>\n",
       "      <th>min</th>\n",
       "      <td>1.000000</td>\n",
       "      <td>76.00000</td>\n",
       "      <td>1637.940000</td>\n",
       "      <td>1516.720000</td>\n",
       "      <td>1.000000</td>\n",
       "    </tr>\n",
       "    <tr>\n",
       "      <th>25%</th>\n",
       "      <td>500.750000</td>\n",
       "      <td>158.00000</td>\n",
       "      <td>13758.952500</td>\n",
       "      <td>10995.950000</td>\n",
       "      <td>4.000000</td>\n",
       "    </tr>\n",
       "    <tr>\n",
       "      <th>50%</th>\n",
       "      <td>1000.500000</td>\n",
       "      <td>179.00000</td>\n",
       "      <td>24821.085000</td>\n",
       "      <td>20105.700000</td>\n",
       "      <td>8.000000</td>\n",
       "    </tr>\n",
       "    <tr>\n",
       "      <th>75%</th>\n",
       "      <td>1500.250000</td>\n",
       "      <td>204.00000</td>\n",
       "      <td>38581.350000</td>\n",
       "      <td>30709.350000</td>\n",
       "      <td>12.000000</td>\n",
       "    </tr>\n",
       "    <tr>\n",
       "      <th>max</th>\n",
       "      <td>2000.000000</td>\n",
       "      <td>518.00000</td>\n",
       "      <td>76106.800000</td>\n",
       "      <td>52498.750000</td>\n",
       "      <td>15.000000</td>\n",
       "    </tr>\n",
       "  </tbody>\n",
       "</table>\n",
       "</div>"
      ],
      "text/plain": [
       "          claim_id  time_to_close  claim_amount   amount_paid  \\\n",
       "count  2000.000000     2000.00000   2000.000000   1964.000000   \n",
       "mean   1000.500000      185.56800  27156.965235  21541.975183   \n",
       "std     577.494589       49.16339  16195.783099  12530.156509   \n",
       "min       1.000000       76.00000   1637.940000   1516.720000   \n",
       "25%     500.750000      158.00000  13758.952500  10995.950000   \n",
       "50%    1000.500000      179.00000  24821.085000  20105.700000   \n",
       "75%    1500.250000      204.00000  38581.350000  30709.350000   \n",
       "max    2000.000000      518.00000  76106.800000  52498.750000   \n",
       "\n",
       "       individuals_on_claim  \n",
       "count           2000.000000  \n",
       "mean               8.049500  \n",
       "std                4.087347  \n",
       "min                1.000000  \n",
       "25%                4.000000  \n",
       "50%                8.000000  \n",
       "75%               12.000000  \n",
       "max               15.000000  "
      ]
     },
     "execution_count": 30,
     "metadata": {},
     "output_type": "execute_result"
    }
   ],
   "source": [
    "#check the median distribution of each column\n",
    "\n",
    "data.describe()"
   ]
  },
  {
   "cell_type": "code",
   "execution_count": 31,
   "id": "21958a03",
   "metadata": {},
   "outputs": [
    {
     "name": "stdout",
     "output_type": "stream",
     "text": [
      "Replacement Successful\n"
     ]
    }
   ],
   "source": [
    "#converting the amount_paid column to float and replacing its missing values with its median values\n",
    "data['amount_paid'] = data['amount_paid'].astype('float64').fillna(round(data.amount_paid.median(), 2))\n",
    "\n",
    "print('Replacement Successful')"
   ]
  },
  {
   "cell_type": "code",
   "execution_count": 32,
   "id": "3d3c510c",
   "metadata": {},
   "outputs": [
    {
     "name": "stdout",
     "output_type": "stream",
     "text": [
      "   claim_id  time_to_close  claim_amount  amount_paid   location  \\\n",
      "0         1            317      74474.55     51231.37     RECIFE   \n",
      "1         2            195      52137.83     42111.30  FORTALEZA   \n",
      "2         3            183      24447.20     23986.30   SAO LUIS   \n",
      "3         4            186      29006.28     27942.72  FORTALEZA   \n",
      "4         5            138      19520.60     16251.06     RECIFE   \n",
      "\n",
      "   individuals_on_claim  linked_cases      cause  \n",
      "0                    15         False    unknown  \n",
      "1                    12          True    unknown  \n",
      "2                    10          True       meat  \n",
      "3                    11         False       meat  \n",
      "4                    11         False  vegetable  \n",
      "<class 'pandas.core.frame.DataFrame'>\n",
      "RangeIndex: 2000 entries, 0 to 1999\n",
      "Data columns (total 8 columns):\n",
      " #   Column                Non-Null Count  Dtype  \n",
      "---  ------                --------------  -----  \n",
      " 0   claim_id              2000 non-null   int64  \n",
      " 1   time_to_close         2000 non-null   int64  \n",
      " 2   claim_amount          2000 non-null   float64\n",
      " 3   amount_paid           2000 non-null   float64\n",
      " 4   location              2000 non-null   object \n",
      " 5   individuals_on_claim  2000 non-null   int64  \n",
      " 6   linked_cases          2000 non-null   bool   \n",
      " 7   cause                 2000 non-null   object \n",
      "dtypes: bool(1), float64(2), int64(3), object(2)\n",
      "memory usage: 111.5+ KB\n",
      "None\n",
      "claim_id                0\n",
      "time_to_close           0\n",
      "claim_amount            0\n",
      "amount_paid             0\n",
      "location                0\n",
      "individuals_on_claim    0\n",
      "linked_cases            0\n",
      "cause                   0\n",
      "dtype: int64\n"
     ]
    }
   ],
   "source": [
    "#data validation\n",
    "\n",
    "print(data.head())\n",
    "\n",
    "print(data.info())\n",
    "\n",
    "print(data.isna().sum())"
   ]
  },
  {
   "cell_type": "markdown",
   "id": "84d919f3",
   "metadata": {},
   "source": [
    "### Convert to a .csv file"
   ]
  },
  {
   "cell_type": "code",
   "execution_count": 42,
   "id": "225bdae6",
   "metadata": {},
   "outputs": [],
   "source": [
    "#convert to csv\n",
    "data.to_csv('vivendo_food_claims(1).csv')"
   ]
  },
  {
   "cell_type": "markdown",
   "id": "ebdb1169",
   "metadata": {},
   "source": [
    "# Analysis and Breakdowns"
   ]
  },
  {
   "cell_type": "code",
   "execution_count": 34,
   "id": "5fea66ca",
   "metadata": {
    "scrolled": false
   },
   "outputs": [
    {
     "data": {
      "image/png": "[encoded data removed]",
      "text/plain": [
       "<Figure size 640x480 with 1 Axes>"
      ]
     },
     "metadata": {},
     "output_type": "display_data"
    }
   ],
   "source": [
    "#create a visualization that groups the number of claims by categories\n",
    "sns.countplot(x='location', data=data, palette='Reds')\n",
    "plt.title('Number of Claims Per Location')\n",
    "\n",
    "# Display the plot\n",
    "plt.show()"
   ]
  },
  {
   "cell_type": "markdown",
   "id": "7798c19f",
   "metadata": {},
   "source": [
    "This data has four distinct locations namely: Recife, Fortaleza, Sao Luis, and Natal. Recife has the highest number of claims, exceeding 800. The other locations were averaging between 250-500 claims within these locations.\n",
    "\n",
    "My suggestion would be that the legal team takes a better check on all locations but pays more attention to Reciffe and discover the reason for the increased number of claims in that location. "
   ]
  },
  {
   "cell_type": "code",
   "execution_count": 38,
   "id": "c33abad3",
   "metadata": {},
   "outputs": [
    {
     "data": {
      "image/png": "[encoded data removed]",
      "text/plain": [
       "<Figure size 640x480 with 1 Axes>"
      ]
     },
     "metadata": {},
     "output_type": "display_data"
    }
   ],
   "source": [
    "#creating a plot to determine the distribution between time_to_close and all claims\n",
    "\n",
    "sns.set_style(\"darkgrid\")\n",
    "\n",
    "sns.histplot(data=data, x = 'time_to_close', bins = 40, color=\"#ff0000\") \n",
    "\n",
    "plt.title('Range between time to close')\n",
    "\n",
    "\n",
    "# Display the plot\n",
    "plt.show()"
   ]
  },
  {
   "cell_type": "markdown",
   "id": "4059952f",
   "metadata": {},
   "source": [
    "The `time_to_close` for all claims spans a range from 76 to 518 days. Notably, the highest durations fall within the 90 to 300-day bracket, given that `time_to_close` is denoted in days.\n",
    "\n",
    "Our observation underscores a right-skewed distribution. This is evident as the values cluster towards the left side of the histogram, with a pronounced tail extending to the right.\n",
    "\n",
    "As a suggestion, it may be advantageous for the legal team to prioritize claims falling within the 90-300 day range, as this period exhibits a notably higher frequency of claims."
   ]
  },
  {
   "cell_type": "code",
   "execution_count": 39,
   "id": "d97c3a3e",
   "metadata": {
    "scrolled": false
   },
   "outputs": [
    {
     "data": {
      "image/png": "[encoded data removed]",
      "text/plain": [
       "<Figure size 640x480 with 1 Axes>"
      ]
     },
     "metadata": {},
     "output_type": "display_data"
    }
   ],
   "source": [
    "#creating a plot to show the relationship between time_to_close and location\n",
    "sns.boxplot(data= data, x='location', y='time_to_close', palette='Reds', width=0.5)\n",
    "\n",
    "plt.title('Relationship between time_to_close and location')\n",
    "# Display the plot\n",
    "plt.show()"
   ]
  },
  {
   "cell_type": "markdown",
   "id": "b5fadd51",
   "metadata": {},
   "source": [
    "Examining the correlation between time taken to close a claim and the corresponding location, we aim to analyze the variability in closure times across different places. Although the time to close can range from 90 to 100, a combined assessment of both variables is essential for contextual clarity.\n",
    "\n",
    "We employ a box plot to illustrate this correlation, shedding light on the spread of closure times across locations, while also considering any outliers present in the dataset. In the provided plot, it's evident that the presence of outliers heavily influences the data, potentially complicating comparisons. High outliers indicate extended closure times for specific claims in a given location, whereas low outliers denote swift closures.\n",
    "\n",
    "To facilitate a more straightforward comparison of the remaining data, we'll opt to exclude these outlier points. This adjustment will allow for a clearer assessment of closure times across locations."
   ]
  },
  {
   "cell_type": "markdown",
   "id": "0f5b0e50",
   "metadata": {},
   "source": [
    "Since there are outliers in our data, it's best to focus on a subset of our data specifically the areas with more distribution in our time_to_close column"
   ]
  },
  {
   "cell_type": "code",
   "execution_count": 40,
   "id": "16166f53",
   "metadata": {
    "scrolled": false
   },
   "outputs": [
    {
     "data": {
      "image/png": "[encoded data removed]",
      "text/plain": [
       "<Figure size 640x480 with 1 Axes>"
      ]
     },
     "metadata": {},
     "output_type": "display_data"
    }
   ],
   "source": [
    "#create a subset that ranges between 90 and 300 for only time to close to remove outliers\n",
    "\n",
    "data_improv = data.drop(data[(data['time_to_close'] > 90) & (data['time_to_close'] <= 300)].index)\n",
    "\n",
    "# Creatng a plot for relationship between time to close and location without outliers\n",
    "\n",
    "sns.boxplot(data= data_improv, x='location', y='time_to_close', palette='Reds')\n",
    "\n",
    "\n",
    "# Display the plot\n",
    "plt.show()"
   ]
  },
  {
   "cell_type": "markdown",
   "id": "517d3816",
   "metadata": {},
   "source": [
    "In the updated plot, we've omitted the outlier, allowing us to center our attention on the core data range. Upon closer inspection, SAO LUIS exhibits the greatest frequency of closure times. Surprisingly, its interquartile range for closure times is narrower compared to that of RECIFA and FORTALEZA. This implies that SAO LUIS might have lower closure times on average. Nevertheless, it's worth noting that this observation could be influenced by the fact that SAO LUIS boasts the highest number of locations. Consequently, the substantial quantity of locations with shorter closure times may contribute to a lower overall median."
   ]
  },
  {
   "cell_type": "markdown",
   "id": "89a28f71",
   "metadata": {},
   "source": [
    "# **Recommendations**\n",
    "\n",
    "After a comprehensive analysis, we propose the following strategies for the legal team:\n",
    "\n",
    "1. Prioritize locations where closure times range from 90 to 300 days.\n",
    "2. Pay special attention to RECIFE and FORTALEZA, which exhibit prolonged closure times.\n",
    "3. Delve into locations with swift closure times to discern any distinctive patterns compared to other areas in terms of claims processing.\n",
    "\n",
    "To gain deeper insights, it is imperative to conduct further investigations to ascertain the true impact of location on time to close."
   ]
  }
 ],
 "metadata": {
  "kernelspec": {
   "display_name": "Python 3 (ipykernel)",
   "language": "python",
   "name": "python3"
  },
  "language_info": {
   "codemirror_mode": {
    "name": "ipython",
    "version": 3
   },
   "file_extension": ".py",
   "mimetype": "text/x-python",
   "name": "python",
   "nbconvert_exporter": "python",
   "pygments_lexer": "ipython3",
   "version": "3.11.3"
  }
 },
 "nbformat": 4,
 "nbformat_minor": 5
}
